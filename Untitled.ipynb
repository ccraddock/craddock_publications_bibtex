{
 "cells": [
  {
   "cell_type": "code",
   "execution_count": 69,
   "metadata": {
    "collapsed": true
   },
   "outputs": [],
   "source": [
    "import bibtexparser as btp"
   ]
  },
  {
   "cell_type": "code",
   "execution_count": 204,
   "metadata": {
    "collapsed": false,
    "scrolled": false
   },
   "outputs": [],
   "source": [
    "with open(\"craddock_publications.bib\", 'r') as instream:\n",
    "    full_database = btp.load(instream)\n",
    "    \n",
    "journal_database = btp.bibdatabase.BibDatabase()\n",
    "preprint_database = btp.bibdatabase.BibDatabase()\n",
    "conference_database = btp.bibdatabase.BibDatabase()\n",
    "talk_database = btp.bibdatabase.BibDatabase()\n",
    "    \n",
    "for journal_entry in full_database.entries:\n",
    "    if 'inproceedings' in journal_entry['ENTRYTYPE'].lower() or 'abs' in journal_entry['ID'].lower():\n",
    "        conference_database.entries.append(journal_entry)\n",
    "    elif 'conference' in journal_entry['ENTRYTYPE'].lower() or 'talk' in journal_entry['ID'].lower():\n",
    "        talk_database.entries.append(journal_entry)\n",
    "    elif 'article' in journal_entry['ENTRYTYPE'].lower() and 'preprint' in journal_entry['ID'].lower():\n",
    "        preprint_database.entries.append(journal_entry)\n",
    "    elif 'article' in journal_entry['ENTRYTYPE'].lower() or 'paper' in journal_entry['ID'].lower:\n",
    "        journal_database.entries.append(journal_entry)\n",
    "    else:\n",
    "        print(\"Don't know how to handle {0}\".format(journal_entry))\n",
    "        \n",
    "writer = btp.bwriter.BibTexWriter()\n",
    "writer.indent = '    '     # indent entries with 4 spaces instead of one\n",
    "\n",
    "with open(\"ccraddock_conf_pubs.bib\",\"w\") as ostream:\n",
    "    ostream.write(writer.write(conference_database))\n",
    "\n",
    "with open(\"ccraddock_invited_talks.bib\",\"w\") as ostream:\n",
    "    ostream.write(writer.write(talk_database))\n",
    "    \n",
    "with open(\"ccraddock_preprints.bib\",\"w\") as ostream:\n",
    "    ostream.write(writer.write(preprint_database))\n",
    "    \n",
    "with open(\"ccraddock_journal_pubs.bib\",\"w\") as ostream:\n",
    "    ostream.write(writer.write(journal_database))"
   ]
  },
  {
   "cell_type": "code",
   "execution_count": 192,
   "metadata": {
    "collapsed": false
   },
   "outputs": [
    {
     "name": "stdout",
     "output_type": "stream",
     "text": [
      "\n",
      "!talkCraddock2010 is in both journal and full databases. entries differ\n",
      "\n",
      "!talkCraddock2010a is in both journal and full databases. entries differ\n",
      "\n",
      "!talkCraddock2010b is in both journal and full databases. entries differ\n",
      "\n",
      "!talkCraddock2010c is in both journal and full databases. entries differ\n",
      "\n",
      "!talkCraddock2010d is in both journal and full databases. entries differ\n",
      "\n",
      "!talkCraddock2006a is in both journal and full databases. entries differ\n",
      "\n",
      "!talkCraddock2009 is in both journal and full databases. entries differ\n",
      "\n",
      "!talkCraddock2006b is in both journal and full databases. entries differ\n",
      "jdb author: {\\textbf{R. Cameron}} {\\textbf{Craddock}} and Taylor, Renee and Broderick, Gordon and Whistler, Toni and Klimas, Nancy and Unger, Elizabeth\n",
      "R.\n",
      "fdb author: {\\textbf{R. Cameron}} {\\textbf{Craddock}} and Taylor, Renee and Broderick, Gordon and Whistler, Toni and Klimas, Nancy and Unger, Elizabeth R.\n",
      "\n",
      "!talkCraddock2012a is in both journal and full databases. entries differ\n",
      "\n",
      "!talkCraddock2015USC is in both journal and full databases. entries differ\n",
      "\n",
      "!talkCraddock2015OHBMb is in both journal and full databases. entries differ\n",
      "\n",
      "!talkCraddock2015incf is in both journal and full databases. entries differ\n",
      "\n",
      "!talkCraddock2016Whistler is in both journal and full databases. entries differ\n"
     ]
    }
   ],
   "source": [
    "with open(\"cnl_pubs.bib\", 'r') as instream:\n",
    "    full_database = btp.load(instream)\n",
    "    \n",
    "with open(\"ccraddock_invited_talks.bib\") as instream:\n",
    "    journal_database = btp.load(instream)\n",
    "    \n",
    "for journal_entry in journal_database.entries:\n",
    "    if journal_entry['ID'] in full_database.entries_dict:\n",
    "        if journal_entry != full_database.entries_dict[journal_entry['ID']]:\n",
    "            print(\"\\n!{} is in both journal and full databases. entries differ\".format(journal_entry['ID']))\n",
    "            for key in list(set(list(journal_entry.keys()) + list(full_database.entries_dict[journal_entry['ID']].keys()))):\n",
    "                if key == \"title\":\n",
    "                    continue\n",
    "                if key not in journal_entry:\n",
    "                    journal_entry[key] = \"missing!\"\n",
    "                elif key not in full_database.entries_dict[journal_entry['ID']]:\n",
    "                    full_database.entries_dict[journal_entry['ID']][key] = \"missing!\"\n",
    "                if journal_entry[key] != full_database.entries_dict[journal_entry['ID']][key]:\n",
    "                    print(\"jdb {0}: {1}\\nfdb {0}: {2}\".format(key, journal_entry[key], full_database.entries_dict[journal_entry['ID']][key]))\n",
    "    else:\n",
    "        print(\"!{} is missing from full database\".format(journal_entry['ID']))"
   ]
  },
  {
   "cell_type": "code",
   "execution_count": 162,
   "metadata": {
    "collapsed": false
   },
   "outputs": [
    {
     "data": {
      "text/plain": [
       "{'ENTRYTYPE': 'article',\n",
       " 'ID': 'paperHeinsfeld201816',\n",
       " 'author': 'Anibal Sólon Heinsfeld and Alexandre Rosa Franco and {\\\\textbf{Craddock}}, {\\\\textbf{R. Cameron}} and Augusto Buchweitz and Felipe Meneguzzi',\n",
       " 'doi': 'https://doi.org/10.1016/j.nicl.2017.08.017',\n",
       " 'issn': '2213-1582',\n",
       " 'journal': 'NeuroImage: Clinical',\n",
       " 'keyword': 'Resting state',\n",
       " 'link': 'http://www.sciencedirect.com/science/article/pii/S2213158217302073',\n",
       " 'note': '',\n",
       " 'number': '',\n",
       " 'pages': '16 - 23',\n",
       " 'title': 'Identification of autism spectrum disorder using deep learning and the {ABIDE} dataset',\n",
       " 'volume': '17',\n",
       " 'year': '2018'}"
      ]
     },
     "execution_count": 162,
     "metadata": {},
     "output_type": "execute_result"
    }
   ],
   "source": [
    "entry"
   ]
  },
  {
   "cell_type": "code",
   "execution_count": 194,
   "metadata": {
    "collapsed": false
   },
   "outputs": [],
   "source": [
    "with open(\"cnl_pubs.bib\", 'r') as instream:\n",
    "    full_database = btp.load(instream)\n",
    "    \n",
    "for entry in full_database.entries:\n",
    "    if entry[\"title\"].rstrip().endswith(\".\"):\n",
    "        entry[\"title\"]=entry[\"title\"].rstrip(\".\")\n",
    "    if entry[\"title\"].rstrip().endswith(\" \"):\n",
    "        entry[\"title\"]=entry[\"title\"].rstrip(\" \")    \n",
    "    if \"abstract\" in entry and entry[\"abstract\"] and not entry[\"abstract\"].rstrip().endswith(\".\"):\n",
    "        entry[\"abstract\"]=entry[\"abstract\"]+\".\"\n",
    "       \n",
    "with open(\"cnl_pubs_filtered.bib\",\"w\") as ostream:\n",
    "    btp.dump(full_database, ostream)"
   ]
  },
  {
   "cell_type": "code",
   "execution_count": 178,
   "metadata": {
    "collapsed": true
   },
   "outputs": [],
   "source": [
    "btp.dump?"
   ]
  },
  {
   "cell_type": "code",
   "execution_count": null,
   "metadata": {
    "collapsed": true
   },
   "outputs": [],
   "source": []
  }
 ],
 "metadata": {
  "anaconda-cloud": {},
  "kernelspec": {
   "display_name": "Python [conda env:py3]",
   "language": "python",
   "name": "conda-env-py3-py"
  },
  "language_info": {
   "codemirror_mode": {
    "name": "ipython",
    "version": 3
   },
   "file_extension": ".py",
   "mimetype": "text/x-python",
   "name": "python",
   "nbconvert_exporter": "python",
   "pygments_lexer": "ipython3",
   "version": "3.6.0"
  }
 },
 "nbformat": 4,
 "nbformat_minor": 1
}
